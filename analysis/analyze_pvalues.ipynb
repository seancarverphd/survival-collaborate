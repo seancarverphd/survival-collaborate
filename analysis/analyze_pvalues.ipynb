{
 "cells": [
  {
   "cell_type": "code",
   "execution_count": 38,
   "metadata": {},
   "outputs": [],
   "source": [
    "import pandas as pd\n",
    "import numpy as np\n",
    "import pickle\n",
    "import matplotlib.pyplot as plt\n",
    "import seaborn as sns\n",
    "%matplotlib inline\n",
    "import seaborn as sns\n"
   ]
  },
  {
   "cell_type": "code",
   "execution_count": 39,
   "metadata": {},
   "outputs": [],
   "source": [
    "f = open('pvalues.savepkl','rb')\n",
    "zstats = pickle.load(f)\n",
    "pvalues = pickle.load(f)\n",
    "f.close()"
   ]
  },
  {
   "cell_type": "code",
   "execution_count": 40,
   "metadata": {},
   "outputs": [
    {
     "data": {
      "text/plain": [
       "2847"
      ]
     },
     "execution_count": 40,
     "metadata": {},
     "output_type": "execute_result"
    }
   ],
   "source": [
    "len(pvalues)"
   ]
  },
  {
   "cell_type": "code",
   "execution_count": 41,
   "metadata": {},
   "outputs": [],
   "source": [
    "def prune_dictionary(alpha, zstats, pvalues):\n",
    "    keys_to_remove = []\n",
    "    for key, val in pvalues.items():\n",
    "        if pvalues[key] > alpha or zstats[key] > 0 or key == '':  # drop z>0 to keep more deaths in 2009 \n",
    "            keys_to_remove.append(key)\n",
    "    new_zstats = zstats.copy()\n",
    "    new_pvalues = pvalues.copy()\n",
    "    for key in keys_to_remove:\n",
    "        del new_zstats[key]\n",
    "        del new_pvalues[key]\n",
    "    return new_zstats, new_pvalues"
   ]
  },
  {
   "cell_type": "code",
   "execution_count": 42,
   "metadata": {},
   "outputs": [],
   "source": [
    "z, p = prune_dictionary(.00001/2846, zstats, pvalues)"
   ]
  },
  {
   "cell_type": "code",
   "execution_count": 43,
   "metadata": {},
   "outputs": [
    {
     "data": {
      "text/plain": [
       "104"
      ]
     },
     "execution_count": 43,
     "metadata": {},
     "output_type": "execute_result"
    }
   ],
   "source": [
    "len(z)"
   ]
  },
  {
   "cell_type": "code",
   "execution_count": 44,
   "metadata": {},
   "outputs": [],
   "source": [
    "def prune_away_sigs(alpha, zstats, pvalues):\n",
    "    keys_to_remove = []\n",
    "    for key, val in pvalues.items():\n",
    "        if pvalues[key] < alpha or key == '':  # drop z>0 to keep more deaths in 2009 \n",
    "            keys_to_remove.append(key)\n",
    "    new_zstats = zstats.copy()\n",
    "    new_pvalues = pvalues.copy()\n",
    "    for key in keys_to_remove:\n",
    "        del new_zstats[key]\n",
    "        del new_pvalues[key]\n",
    "    return new_zstats, new_pvalues"
   ]
  },
  {
   "cell_type": "code",
   "execution_count": 45,
   "metadata": {},
   "outputs": [],
   "source": [
    "z_insig, p_insig = prune_away_sigs(.00001/2846, zstats, pvalues)"
   ]
  },
  {
   "cell_type": "code",
   "execution_count": 46,
   "metadata": {},
   "outputs": [
    {
     "data": {
      "text/plain": [
       "2604"
      ]
     },
     "execution_count": 46,
     "metadata": {},
     "output_type": "execute_result"
    }
   ],
   "source": [
    "len(z_insig)"
   ]
  },
  {
   "cell_type": "markdown",
   "metadata": {},
   "source": [
    "Rank by greatest Cohen's h."
   ]
  },
  {
   "cell_type": "code",
   "execution_count": 47,
   "metadata": {},
   "outputs": [],
   "source": [
    "f = open(\"cohens_h.savepkl\", \"rb\")\n",
    "cohens_h = pickle.load(f)\n",
    "f.close()"
   ]
  },
  {
   "cell_type": "code",
   "execution_count": 48,
   "metadata": {},
   "outputs": [],
   "source": [
    "def prune_by_dict(dict_w_keys,dict_w_values):\n",
    "    new_dict = {key: dict_w_values[key] for key in dict_w_keys.keys()}\n",
    "    return new_dict    "
   ]
  },
  {
   "cell_type": "code",
   "execution_count": 49,
   "metadata": {},
   "outputs": [],
   "source": [
    "h = prune_by_dict(p, cohens_h)"
   ]
  },
  {
   "cell_type": "code",
   "execution_count": 50,
   "metadata": {},
   "outputs": [
    {
     "data": {
      "text/plain": [
       "104"
      ]
     },
     "execution_count": 50,
     "metadata": {},
     "output_type": "execute_result"
    }
   ],
   "source": [
    "len(h)"
   ]
  },
  {
   "cell_type": "code",
   "execution_count": 51,
   "metadata": {},
   "outputs": [],
   "source": [
    "dh = pd.Series(h).sort_values(ascending=False)"
   ]
  },
  {
   "cell_type": "code",
   "execution_count": 52,
   "metadata": {},
   "outputs": [
    {
     "data": {
      "text/plain": [
       "J440    0.019504\n",
       "N039    0.007223\n",
       "J441    0.005746\n",
       "X45     0.004851\n",
       "R628    0.004641\n",
       "F179    0.004545\n",
       "J960    0.004000\n",
       "T519    0.003984\n",
       "T510    0.002898\n",
       "R53     0.002732\n",
       "dtype: float64"
      ]
     },
     "execution_count": 52,
     "metadata": {},
     "output_type": "execute_result"
    }
   ],
   "source": [
    "dh.head(10)"
   ]
  },
  {
   "cell_type": "code",
   "execution_count": 53,
   "metadata": {},
   "outputs": [
    {
     "data": {
      "text/plain": [
       "0.001439559728666582"
      ]
     },
     "execution_count": 53,
     "metadata": {},
     "output_type": "execute_result"
    }
   ],
   "source": [
    "dh.mean()"
   ]
  },
  {
   "cell_type": "code",
   "execution_count": 54,
   "metadata": {},
   "outputs": [],
   "source": [
    "h_insig = prune_by_dict(p_insig, cohens_h)"
   ]
  },
  {
   "cell_type": "code",
   "execution_count": 55,
   "metadata": {},
   "outputs": [
    {
     "data": {
      "text/plain": [
       "2604"
      ]
     },
     "execution_count": 55,
     "metadata": {},
     "output_type": "execute_result"
    }
   ],
   "source": [
    "len(h_insig)"
   ]
  },
  {
   "cell_type": "code",
   "execution_count": 56,
   "metadata": {},
   "outputs": [],
   "source": [
    "dh_insig = pd.Series(h_insig).sort_values(ascending=False)"
   ]
  },
  {
   "cell_type": "code",
   "execution_count": 57,
   "metadata": {},
   "outputs": [
    {
     "data": {
      "text/plain": [
       "I201    0.000493\n",
       "F319    0.000480\n",
       "K701    0.000479\n",
       "I340    0.000478\n",
       "J101    0.000477\n",
       "dtype: float64"
      ]
     },
     "execution_count": 57,
     "metadata": {},
     "output_type": "execute_result"
    }
   ],
   "source": [
    "dh_insig.head()"
   ]
  },
  {
   "cell_type": "code",
   "execution_count": 58,
   "metadata": {},
   "outputs": [
    {
     "data": {
      "text/plain": [
       "0.9995558706656231"
      ]
     },
     "execution_count": 58,
     "metadata": {},
     "output_type": "execute_result"
    }
   ],
   "source": [
    "pvalues['Y24']"
   ]
  },
  {
   "cell_type": "code",
   "execution_count": 59,
   "metadata": {},
   "outputs": [],
   "source": [
    "f = open(\"../etl/k6.savepkl\", \"rb\")\n",
    "k6 = pickle.load(f)\n",
    "f.close()\n",
    "f = open(\"../etl/k9.savepkl\", \"rb\")\n",
    "k9 = pickle.load(f)\n",
    "f.close()"
   ]
  },
  {
   "cell_type": "code",
   "execution_count": 60,
   "metadata": {},
   "outputs": [],
   "source": [
    "k6prune = prune_by_dict(p, k6)\n",
    "k9prune = prune_by_dict(p, k9)"
   ]
  },
  {
   "cell_type": "code",
   "execution_count": 61,
   "metadata": {},
   "outputs": [
    {
     "data": {
      "text/plain": [
       "104"
      ]
     },
     "execution_count": 61,
     "metadata": {},
     "output_type": "execute_result"
    }
   ],
   "source": [
    "len(k6prune)"
   ]
  },
  {
   "cell_type": "code",
   "execution_count": 62,
   "metadata": {
    "scrolled": true
   },
   "outputs": [
    {
     "data": {
      "text/plain": [
       "104"
      ]
     },
     "execution_count": 62,
     "metadata": {},
     "output_type": "execute_result"
    }
   ],
   "source": [
    "len(k9prune)"
   ]
  },
  {
   "cell_type": "code",
   "execution_count": 63,
   "metadata": {},
   "outputs": [],
   "source": [
    "dk = pd.DataFrame({'k6': k6prune, 'k9':k9prune, 'cohen': dh}).sort_values('cohen', ascending=False)"
   ]
  },
  {
   "cell_type": "code",
   "execution_count": 64,
   "metadata": {},
   "outputs": [
    {
     "data": {
      "text/html": [
       "<div>\n",
       "<style scoped>\n",
       "    .dataframe tbody tr th:only-of-type {\n",
       "        vertical-align: middle;\n",
       "    }\n",
       "\n",
       "    .dataframe tbody tr th {\n",
       "        vertical-align: top;\n",
       "    }\n",
       "\n",
       "    .dataframe thead th {\n",
       "        text-align: right;\n",
       "    }\n",
       "</style>\n",
       "<table border=\"1\" class=\"dataframe\">\n",
       "  <thead>\n",
       "    <tr style=\"text-align: right;\">\n",
       "      <th></th>\n",
       "      <th>k6</th>\n",
       "      <th>k9</th>\n",
       "      <th>cohen</th>\n",
       "    </tr>\n",
       "  </thead>\n",
       "  <tbody>\n",
       "    <tr>\n",
       "      <th>J440</th>\n",
       "      <td>326</td>\n",
       "      <td>35765</td>\n",
       "      <td>0.019504</td>\n",
       "    </tr>\n",
       "    <tr>\n",
       "      <th>N039</th>\n",
       "      <td>6183</td>\n",
       "      <td>20445</td>\n",
       "      <td>0.007223</td>\n",
       "    </tr>\n",
       "    <tr>\n",
       "      <th>J441</th>\n",
       "      <td>196</td>\n",
       "      <td>4163</td>\n",
       "      <td>0.005746</td>\n",
       "    </tr>\n",
       "    <tr>\n",
       "      <th>X45</th>\n",
       "      <td>2222</td>\n",
       "      <td>8151</td>\n",
       "      <td>0.004851</td>\n",
       "    </tr>\n",
       "    <tr>\n",
       "      <th>R628</th>\n",
       "      <td>46566</td>\n",
       "      <td>67312</td>\n",
       "      <td>0.004641</td>\n",
       "    </tr>\n",
       "    <tr>\n",
       "      <th>F179</th>\n",
       "      <td>164878</td>\n",
       "      <td>203871</td>\n",
       "      <td>0.004545</td>\n",
       "    </tr>\n",
       "    <tr>\n",
       "      <th>J960</th>\n",
       "      <td>20814</td>\n",
       "      <td>32876</td>\n",
       "      <td>0.004000</td>\n",
       "    </tr>\n",
       "    <tr>\n",
       "      <th>T519</th>\n",
       "      <td>1141</td>\n",
       "      <td>4781</td>\n",
       "      <td>0.003984</td>\n",
       "    </tr>\n",
       "    <tr>\n",
       "      <th>T510</th>\n",
       "      <td>2049</td>\n",
       "      <td>5081</td>\n",
       "      <td>0.002898</td>\n",
       "    </tr>\n",
       "    <tr>\n",
       "      <th>R53</th>\n",
       "      <td>14483</td>\n",
       "      <td>21302</td>\n",
       "      <td>0.002732</td>\n",
       "    </tr>\n",
       "  </tbody>\n",
       "</table>\n",
       "</div>"
      ],
      "text/plain": [
       "          k6      k9     cohen\n",
       "J440     326   35765  0.019504\n",
       "N039    6183   20445  0.007223\n",
       "J441     196    4163  0.005746\n",
       "X45     2222    8151  0.004851\n",
       "R628   46566   67312  0.004641\n",
       "F179  164878  203871  0.004545\n",
       "J960   20814   32876  0.004000\n",
       "T519    1141    4781  0.003984\n",
       "T510    2049    5081  0.002898\n",
       "R53    14483   21302  0.002732"
      ]
     },
     "execution_count": 64,
     "metadata": {},
     "output_type": "execute_result"
    }
   ],
   "source": [
    "dk.head(10)"
   ]
  },
  {
   "cell_type": "code",
   "execution_count": 67,
   "metadata": {},
   "outputs": [
    {
     "data": {
      "text/plain": [
       "Index(['J440', 'N039', 'J441', 'X45', 'R628', 'F179', 'J960', 'T519', 'T510',\n",
       "       'R53'],\n",
       "      dtype='object')"
      ]
     },
     "execution_count": 67,
     "metadata": {},
     "output_type": "execute_result"
    }
   ],
   "source": [
    "dk.head(10).index"
   ]
  },
  {
   "cell_type": "code",
   "execution_count": 84,
   "metadata": {},
   "outputs": [],
   "source": [
    "n = 6\n",
    "x6 = 2005.7\n",
    "x9 = 2009.1\n",
    "y6  = dk.head(n)['k6']\n",
    "y9  = dk.head(n)['k9']\n",
    "tx = pd.Series(dk.head(n).index)\n",
    "\n",
    "    "
   ]
  },
  {
   "cell_type": "code",
   "execution_count": 89,
   "metadata": {},
   "outputs": [
    {
     "data": {
      "image/png": "[encoded data removed]",
      "text/plain": [
       "<Figure size 432x288 with 1 Axes>"
      ]
     },
     "metadata": {
      "needs_background": "light"
     },
     "output_type": "display_data"
    }
   ],
   "source": [
    "plt.plot([2006, 2009],[dk.head(n)['k6'], dk.head(n)['k9']])\n",
    "plt.yscale('log')\n",
    "plt.xticks([2006, 2009])\n",
    "#plt.legend(dk.head(10).index, loc='lower right')\n",
    "for i in range(n):\n",
    "    plt.text(x6, y6[i], tx[i], fontsize=12)\n",
    "    plt.text(x9, y9[i], tx[i], fontsize=12)\n",
    "plt.yticks([])# To remove the y-axis\n",
    "plt.xlim((2005,2010))\n",
    "plt.savefig('top_causes_slopegraph.pdf')"
   ]
  },
  {
   "cell_type": "markdown",
   "metadata": {},
   "source": [
    "\n",
    "## The link to the presention is https://prezi.com/view/fL4qT4fdPz2KdBWE1euK/"
   ]
  },
  {
   "cell_type": "code",
   "execution_count": null,
   "metadata": {},
   "outputs": [],
   "source": []
  },
  {
   "cell_type": "code",
   "execution_count": null,
   "metadata": {},
   "outputs": [],
   "source": []
  },
  {
   "cell_type": "code",
   "execution_count": null,
   "metadata": {},
   "outputs": [],
   "source": []
  }
 ],
 "metadata": {
  "kernelspec": {
   "display_name": "Python 3",
   "language": "python",
   "name": "python3"
  },
  "language_info": {
   "codemirror_mode": {
    "name": "ipython",
    "version": 3
   },
   "file_extension": ".py",
   "mimetype": "text/x-python",
   "name": "python",
   "nbconvert_exporter": "python",
   "pygments_lexer": "ipython3",
   "version": "3.7.3"
  }
 },
 "nbformat": 4,
 "nbformat_minor": 2
}
