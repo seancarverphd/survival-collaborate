{
 "cells": [
  {
   "cell_type": "code",
   "execution_count": null,
   "metadata": {},
   "outputs": [],
   "source": [
    "!pip install lxml"
   ]
  },
  {
   "cell_type": "code",
   "execution_count": 140,
   "metadata": {},
   "outputs": [],
   "source": [
    "import pandas as pd\n",
    "import numpy as np\n",
    "import seaborn as sns\n",
    "import matplotlib.pyplot as plt\n",
    "%matplotlib inline"
   ]
  },
  {
   "cell_type": "code",
   "execution_count": 141,
   "metadata": {
    "scrolled": true
   },
   "outputs": [
    {
     "name": "stderr",
     "output_type": "stream",
     "text": [
      "/anaconda3/envs/learn-env/lib/python3.6/site-packages/IPython/core/interactiveshell.py:2785: DtypeWarning: Columns (39,40,41,42,43,44,45,46,47,59,60,61,62,63,64,65,66,67) have mixed types. Specify dtype option on import or set low_memory=False.\n",
      "  interactivity=interactivity, compiler=compiler, result=result)\n"
     ]
    }
   ],
   "source": [
    "df = pd.read_csv('../data/2006_data.csv')"
   ]
  },
  {
   "cell_type": "code",
   "execution_count": 142,
   "metadata": {
    "scrolled": true
   },
   "outputs": [
    {
     "data": {
      "text/html": [
       "<div>\n",
       "<style scoped>\n",
       "    .dataframe tbody tr th:only-of-type {\n",
       "        vertical-align: middle;\n",
       "    }\n",
       "\n",
       "    .dataframe tbody tr th {\n",
       "        vertical-align: top;\n",
       "    }\n",
       "\n",
       "    .dataframe thead th {\n",
       "        text-align: right;\n",
       "    }\n",
       "</style>\n",
       "<table border=\"1\" class=\"dataframe\">\n",
       "  <thead>\n",
       "    <tr style=\"text-align: right;\">\n",
       "      <th></th>\n",
       "      <th>resident_status</th>\n",
       "      <th>education_1989_revision</th>\n",
       "      <th>education_2003_revision</th>\n",
       "      <th>education_reporting_flag</th>\n",
       "      <th>month_of_death</th>\n",
       "      <th>sex</th>\n",
       "      <th>detail_age_type</th>\n",
       "      <th>detail_age</th>\n",
       "      <th>age_substitution_flag</th>\n",
       "      <th>age_recode_52</th>\n",
       "      <th>...</th>\n",
       "      <th>record_condition_18</th>\n",
       "      <th>record_condition_19</th>\n",
       "      <th>record_condition_20</th>\n",
       "      <th>race</th>\n",
       "      <th>bridged_race_flag</th>\n",
       "      <th>race_imputation_flag</th>\n",
       "      <th>race_recode_3</th>\n",
       "      <th>race_recode_5</th>\n",
       "      <th>hispanic_origin</th>\n",
       "      <th>hispanic_originrace_recode</th>\n",
       "    </tr>\n",
       "  </thead>\n",
       "  <tbody>\n",
       "    <tr>\n",
       "      <th>2430723</th>\n",
       "      <td>1</td>\n",
       "      <td>NaN</td>\n",
       "      <td>1.0</td>\n",
       "      <td>1</td>\n",
       "      <td>11</td>\n",
       "      <td>M</td>\n",
       "      <td>4</td>\n",
       "      <td>1</td>\n",
       "      <td>NaN</td>\n",
       "      <td>3</td>\n",
       "      <td>...</td>\n",
       "      <td>NaN</td>\n",
       "      <td>NaN</td>\n",
       "      <td>NaN</td>\n",
       "      <td>1</td>\n",
       "      <td>NaN</td>\n",
       "      <td>NaN</td>\n",
       "      <td>1</td>\n",
       "      <td>1</td>\n",
       "      <td>100</td>\n",
       "      <td>6</td>\n",
       "    </tr>\n",
       "    <tr>\n",
       "      <th>2430724</th>\n",
       "      <td>1</td>\n",
       "      <td>NaN</td>\n",
       "      <td>1.0</td>\n",
       "      <td>1</td>\n",
       "      <td>9</td>\n",
       "      <td>F</td>\n",
       "      <td>6</td>\n",
       "      <td>1</td>\n",
       "      <td>NaN</td>\n",
       "      <td>1</td>\n",
       "      <td>...</td>\n",
       "      <td>NaN</td>\n",
       "      <td>NaN</td>\n",
       "      <td>NaN</td>\n",
       "      <td>2</td>\n",
       "      <td>NaN</td>\n",
       "      <td>NaN</td>\n",
       "      <td>3</td>\n",
       "      <td>2</td>\n",
       "      <td>100</td>\n",
       "      <td>7</td>\n",
       "    </tr>\n",
       "  </tbody>\n",
       "</table>\n",
       "<p>2 rows × 77 columns</p>\n",
       "</div>"
      ],
      "text/plain": [
       "         resident_status  education_1989_revision  education_2003_revision  \\\n",
       "2430723                1                      NaN                      1.0   \n",
       "2430724                1                      NaN                      1.0   \n",
       "\n",
       "         education_reporting_flag  month_of_death sex  detail_age_type  \\\n",
       "2430723                         1              11   M                4   \n",
       "2430724                         1               9   F                6   \n",
       "\n",
       "         detail_age  age_substitution_flag  age_recode_52  \\\n",
       "2430723           1                    NaN              3   \n",
       "2430724           1                    NaN              1   \n",
       "\n",
       "                   ...              record_condition_18  record_condition_19  \\\n",
       "2430723            ...                              NaN                  NaN   \n",
       "2430724            ...                              NaN                  NaN   \n",
       "\n",
       "         record_condition_20  race bridged_race_flag  race_imputation_flag  \\\n",
       "2430723                  NaN     1               NaN                   NaN   \n",
       "2430724                  NaN     2               NaN                   NaN   \n",
       "\n",
       "         race_recode_3 race_recode_5  hispanic_origin  \\\n",
       "2430723              1             1              100   \n",
       "2430724              3             2              100   \n",
       "\n",
       "        hispanic_originrace_recode  \n",
       "2430723                          6  \n",
       "2430724                          7  \n",
       "\n",
       "[2 rows x 77 columns]"
      ]
     },
     "execution_count": 142,
     "metadata": {},
     "output_type": "execute_result"
    }
   ],
   "source": [
    "df.tail(2)"
   ]
  },
  {
   "cell_type": "code",
   "execution_count": 143,
   "metadata": {},
   "outputs": [],
   "source": [
    "df.fillna(value='', inplace=True)"
   ]
  },
  {
   "cell_type": "code",
   "execution_count": 144,
   "metadata": {},
   "outputs": [],
   "source": [
    "df['causes'] = '|'"
   ]
  },
  {
   "cell_type": "code",
   "execution_count": 145,
   "metadata": {},
   "outputs": [],
   "source": [
    "causes = df['causes']"
   ]
  },
  {
   "cell_type": "code",
   "execution_count": 146,
   "metadata": {},
   "outputs": [
    {
     "data": {
      "text/plain": [
       "0    |\n",
       "1    |\n",
       "2    |\n",
       "3    |\n",
       "4    |\n",
       "Name: causes, dtype: object"
      ]
     },
     "execution_count": 146,
     "metadata": {},
     "output_type": "execute_result"
    }
   ],
   "source": [
    "df.causes.head()"
   ]
  },
  {
   "cell_type": "code",
   "execution_count": 154,
   "metadata": {},
   "outputs": [],
   "source": [
    "cause_set = set()"
   ]
  },
  {
   "cell_type": "code",
   "execution_count": 157,
   "metadata": {},
   "outputs": [],
   "source": [
    "for i in range(1,21):\n",
    "    cause_set = cause_set.union(set(df['record_condition_'+str(i)]))"
   ]
  },
  {
   "cell_type": "code",
   "execution_count": 158,
   "metadata": {},
   "outputs": [
    {
     "data": {
      "text/plain": [
       "5519"
      ]
     },
     "execution_count": 158,
     "metadata": {},
     "output_type": "execute_result"
    }
   ],
   "source": [
    "len(cause_set)"
   ]
  },
  {
   "cell_type": "code",
   "execution_count": 137,
   "metadata": {},
   "outputs": [],
   "source": [
    "for i in range(1,21):\n",
    "    causes += df['record_condition_'+str(i)]+'|'\n",
    "   "
   ]
  },
  {
   "cell_type": "code",
   "execution_count": 138,
   "metadata": {},
   "outputs": [
    {
     "data": {
      "text/plain": [
       "0                                       |I500|\n",
       "1                              |I251|I500|J81|\n",
       "2                                  |N189|I500|\n",
       "3                         |J449|C80|I251|I469|\n",
       "4                                  |C509|J969|\n",
       "5                                  |V299|T149|\n",
       "6                                       |I469|\n",
       "7                     |X59|G309|I10|R092|S068|\n",
       "8                                       |J449|\n",
       "9                             |V892|S099|S299|\n",
       "10                                 |G309|I469|\n",
       "11                            |J189|I469|R092|\n",
       "12                                  |N19|I219|\n",
       "13         |J449|C189|E785|G473|I10|I469|R688|\n",
       "14                                      |C509|\n",
       "15                                      |I500|\n",
       "16                             |D70|A419|L039|\n",
       "17                                      |C189|\n",
       "18                  |I519|E668|M839|R578|R688|\n",
       "19         |C920|C61|C782|D469|I251|J969|K922|\n",
       "20                            |E149|I219|I500|\n",
       "21                            |C189|C787|I469|\n",
       "22                                 |I251|I120|\n",
       "23                    |I500|F03|J449|J690|N19|\n",
       "24                    |X59|K729|N19|S269|T794|\n",
       "25                            |I500|I469|R092|\n",
       "26                                       |R99|\n",
       "27                                      |I219|\n",
       "28                                 |I500|R092|\n",
       "29                                 |G309|A419|\n",
       "                          ...                 \n",
       "2430695                         |I251|B24|R99|\n",
       "2430696                            |N390|I469|\n",
       "2430697                            |J159|I469|\n",
       "2430698                   |P280|N19|P285|Q795|\n",
       "2430699               |E149|A419|F03|I469|L89|\n",
       "2430700                                 |Q336|\n",
       "2430701                            |C329|I469|\n",
       "2430702                            |J159|I469|\n",
       "2430703                             |X42|T406|\n",
       "2430704                            |F101|F100|\n",
       "2430705                             |I619|R99|\n",
       "2430706                                 |P072|\n",
       "2430707              |I500|D649|I279|I469|R99|\n",
       "2430708                       |C911|A419|I469|\n",
       "2430709                            |C449|I469|\n",
       "2430710                       |C220|B227|I469|\n",
       "2430711                            |C169|C796|\n",
       "2430712                       |I251|I469|I500|\n",
       "2430713              |I219|E149|E780|I10|I469|\n",
       "2430714                       |K703|B942|K729|\n",
       "2430715         |B182|A419|I351|I469|K746|R99|\n",
       "2430716                        |C55|C780|I469|\n",
       "2430717                                 |P291|\n",
       "2430718                       |J189|A419|I469|\n",
       "2430719                              |I64|I10|\n",
       "2430720                            |J159|I469|\n",
       "2430721                       |I250|E149|I119|\n",
       "2430722                       |P011|P027|P241|\n",
       "2430723                       |P220|P285|P612|\n",
       "2430724                            |P070|P072|\n",
       "Name: causes, Length: 2430725, dtype: object"
      ]
     },
     "execution_count": 138,
     "metadata": {},
     "output_type": "execute_result"
    }
   ],
   "source": [
    "causes.str.replace('\\|+', '|')"
   ]
  },
  {
   "cell_type": "code",
   "execution_count": 139,
   "metadata": {},
   "outputs": [],
   "source": [
    "del df"
   ]
  },
  {
   "cell_type": "code",
   "execution_count": null,
   "metadata": {},
   "outputs": [],
   "source": []
  }
 ],
 "metadata": {
  "kernelspec": {
   "display_name": "learn-env",
   "language": "python",
   "name": "learn-env"
  },
  "language_info": {
   "codemirror_mode": {
    "name": "ipython",
    "version": 3
   },
   "file_extension": ".py",
   "mimetype": "text/x-python",
   "name": "python",
   "nbconvert_exporter": "python",
   "pygments_lexer": "ipython3",
   "version": "3.6.6"
  }
 },
 "nbformat": 4,
 "nbformat_minor": 2
}
