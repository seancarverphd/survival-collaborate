{
 "cells": [
  {
   "cell_type": "code",
   "execution_count": 1,
   "metadata": {},
   "outputs": [],
   "source": [
    "import json\n",
    "import dictdiffer\n",
    "with open('../data/2005_codes.json') as json_file:\n",
    "    data_2005 = json.load(json_file)\n",
    "with open('../data/2006_codes.json') as json_file:\n",
    "    data_2006 = json.load(json_file)\n",
    "with open('../data/2007_codes.json') as json_file:\n",
    "    data_2007 = json.load(json_file)\n",
    "with open('../data/2008_codes.json') as json_file:\n",
    "    data_2008 = json.load(json_file)\n",
    "with open('../data/2009_codes.json') as json_file:\n",
    "    data_2009 = json.load(json_file)\n",
    "with open('../data/2010_codes.json') as json_file:\n",
    "    data_2010 = json.load(json_file)\n",
    "with open('../data/2011_codes.json') as json_file:\n",
    "    data_2011 = json.load(json_file)\n",
    "with open('../data/2012_codes.json') as json_file:\n",
    "    data_2012 = json.load(json_file)\n",
    "with open('../data/2013_codes.json') as json_file:\n",
    "    data_2013 = json.load(json_file)\n",
    "with open('../data/2014_codes.json') as json_file:\n",
    "    data_2014 = json.load(json_file)\n",
    "with open('../data/2015_codes.json') as json_file:\n",
    "    data_2015 = json.load(json_file)"
   ]
  },
  {
   "cell_type": "code",
   "execution_count": 3,
   "metadata": {},
   "outputs": [
    {
     "data": {
      "text/plain": [
       "[('change',\n",
       "  'age_recode_27.01',\n",
       "  ('Under 1 month (includes not stated weeks, days, hours, and',\n",
       "   'Under 1 month (includes not stated  weeks, days, hours, and')),\n",
       " ('add', 'current_data_year', [('2006', '2006')]),\n",
       " ('remove', 'current_data_year', [('2005', '2005')]),\n",
       " ('change',\n",
       "  'race.03',\n",
       "  ('American Indian (includes Aleuts and Eskimos)',\n",
       "   'American Indian (includes Aleuts and  Eskimos)'))]"
      ]
     },
     "execution_count": 3,
     "metadata": {},
     "output_type": "execute_result"
    }
   ],
   "source": [
    "list(dictdiffer.diff(data_2005, data_2006))"
   ]
  },
  {
   "cell_type": "code",
   "execution_count": 4,
   "metadata": {},
   "outputs": [
    {
     "data": {
      "text/plain": [
       "[('add', 'current_data_year', [('2007', '2007')]),\n",
       " ('remove', 'current_data_year', [('2006', '2006')])]"
      ]
     },
     "execution_count": 4,
     "metadata": {},
     "output_type": "execute_result"
    }
   ],
   "source": [
    "list(dictdiffer.diff(data_2006, data_2007))"
   ]
  },
  {
   "cell_type": "code",
   "execution_count": 5,
   "metadata": {},
   "outputs": [
    {
     "data": {
      "text/plain": [
       "[('add', 'current_data_year', [('2008', '2008')]),\n",
       " ('remove', 'current_data_year', [('2007', '2007')])]"
      ]
     },
     "execution_count": 5,
     "metadata": {},
     "output_type": "execute_result"
    }
   ],
   "source": [
    "list(dictdiffer.diff(data_2007, data_2008))"
   ]
  },
  {
   "cell_type": "code",
   "execution_count": 6,
   "metadata": {},
   "outputs": [
    {
     "data": {
      "text/plain": [
       "[('change',\n",
       "  'race.03',\n",
       "  ('American Indian (includes Aleuts and  Eskimos)',\n",
       "   'American Indian (includes Aleuts and Eskimos)'))]"
      ]
     },
     "execution_count": 6,
     "metadata": {},
     "output_type": "execute_result"
    }
   ],
   "source": [
    "list(dictdiffer.diff(data_2008, data_2009))"
   ]
  },
  {
   "cell_type": "code",
   "execution_count": 7,
   "metadata": {},
   "outputs": [
    {
     "data": {
      "text/plain": [
       "[('change',\n",
       "  'age_recode_27.01',\n",
       "  ('Under 1 month (includes not stated  weeks, days, hours, and',\n",
       "   'Under 1 month (includes not stated weeks, days, hours, and minutes)')),\n",
       " ('change', 'age_recode_27.03', ('1 years', '1 year')),\n",
       " ('add', 'current_data_year', [('2010', '2010')]),\n",
       " ('remove', 'current_data_year', [('2008', '2008')]),\n",
       " ('change',\n",
       "  'place_of_injury_for_causes_w00_y34_except_y06_and_y07_.2',\n",
       "  ('School, other institution and public administrative',\n",
       "   'School, other institution and public administrative area')),\n",
       " ('change',\n",
       "  '358_cause_recode.001',\n",
       "  ('I. Certain infectious and parasitic diseases (A00-B99)',\n",
       "   'I.  Certain infectious and parasitic diseases (A00-B99)')),\n",
       " ('change',\n",
       "  '358_cause_recode.156',\n",
       "  ('IV. Endocrine, nutritional and metabolic diseases (E00-E88)',\n",
       "   'IV.  Endocrine, nutritional and metabolic diseases (E00-E88)')),\n",
       " ('change',\n",
       "  '358_cause_recode.174',\n",
       "  ('V. Mental and behavioral disorders (F01-F99)',\n",
       "   'V.  Mental and behavioral disorders (F01-F99)')),\n",
       " ('change',\n",
       "  '358_cause_recode.185',\n",
       "  ('VI. Diseases of the nervous system (G00-G98)',\n",
       "   'VI.  Diseases of the nervous system (G00-G98)')),\n",
       " ('change',\n",
       "  '358_cause_recode.195',\n",
       "  ('VII. Diseases of the eye and adnexa (H00-H57)',\n",
       "   'VII.  Diseases of the eye and adnexa (H00-H57)')),\n",
       " ('change',\n",
       "  '358_cause_recode.196',\n",
       "  ('VIII. Diseases of the ear and mastoid process (H60-H93)',\n",
       "   'VIII.  Diseases of the ear and mastoid process (H60-H93)')),\n",
       " ('change',\n",
       "  '358_cause_recode.197',\n",
       "  ('IX. Diseases of the circulatory system (I00-I99)',\n",
       "   'IX.  Diseases of the circulatory system (I00-I99)')),\n",
       " ('change',\n",
       "  '358_cause_recode.205',\n",
       "  ('Hypertensive diseases (I10-I13)', 'Hypertensive diseases (I10-I15)')),\n",
       " ('change',\n",
       "  '358_cause_recode.208',\n",
       "  ('Hypertensive renal disease (I12)',\n",
       "   'Hypertensive renal disease (I12,I15)')),\n",
       " ('change',\n",
       "  '358_cause_recode.247',\n",
       "  ('X. Diseases of the respiratory system (J00-J98)',\n",
       "   'X.  Diseases of the respiratory system (J00-J98,U04)')),\n",
       " ('change',\n",
       "  '358_cause_recode.252',\n",
       "  ('Other diseases of the respiratory system (J10-J98)',\n",
       "   'Other diseases of the respiratory system (J09-J98,U04)')),\n",
       " ('change',\n",
       "  '358_cause_recode.253',\n",
       "  ('Influenza (J10-J11)', 'Influenza (J09-J11)')),\n",
       " ('change',\n",
       "  '358_cause_recode.258',\n",
       "  ('Other acute lower respiratory infections (J20-J22)',\n",
       "   'Other acute lower respiratory infections (J20-J22,U04)')),\n",
       " ('change',\n",
       "  '358_cause_recode.260',\n",
       "  ('Unspecified acute lower respiratory infection (J22)',\n",
       "   'Other and unspecified acute lower respiratory infection (J22,U04)')),\n",
       " ('change',\n",
       "  '358_cause_recode.279',\n",
       "  ('XI.  Diseases of the digestive system (K00-K92)',\n",
       "   'XI.Diseases of the digestive system (K00-K92)')),\n",
       " ('change',\n",
       "  '358_cause_recode.307',\n",
       "  ('XII.  Diseases of the skin and subcutaneous tissue (L00-L98)',\n",
       "   'XII.Diseases of the skin and subcutaneous tissue (L00-L98)')),\n",
       " ('change',\n",
       "  '358_cause_recode.310',\n",
       "  ('XIII. Diseases of the musculoskeletal system and connective tissue (M00-M99)',\n",
       "   'XIII.  Diseases of the musculoskeletal system and connective tissue (M00-M99)')),\n",
       " ('change',\n",
       "  '358_cause_recode.319',\n",
       "  ('XIV.  Diseases of the genitourinary system (N00-N98)',\n",
       "   'XIV.Diseases of the genitourinary system (N00-N98)')),\n",
       " ('change',\n",
       "  '358_cause_recode.339',\n",
       "  ('XV.  Pregnancy, childbirth and the puerperium (O00-O99)',\n",
       "   'XV.Pregnancy, childbirth and the puerperium (O00-O99)')),\n",
       " ('change',\n",
       "  '358_cause_recode.356',\n",
       "  ('XVI.  Certain conditions originating in the perinatal period (P00-P96)',\n",
       "   'XVI.Certain conditions originating in the perinatal period (P00-P96)')),\n",
       " ('change',\n",
       "  '358_cause_recode.365',\n",
       "  ('XVII. Congenital malformations, deformations and chromosomal abnormalities (Q00-Q99)',\n",
       "   'XVII.  Congenital malformations, deformations and chromosomal abnormalities (Q00-Q99)')),\n",
       " ('change',\n",
       "  '358_cause_recode.375',\n",
       "  ('XVIII.  Symptoms, signs and abnormal clinical and laboratory findings, not elsewhere classified (R00-R99)',\n",
       "   'XVIII.Symptoms, signs and abnormal clinical and laboratory findings, not elsewhere classified (R00-R99)')),\n",
       " ('change',\n",
       "  '358_cause_recode.381',\n",
       "  ('XX.  External causes of mortality (*U01-*U03,V01-Y89)',\n",
       "   'XX.External causes of mortality (*U01-*U03,V01-Y89)')),\n",
       " ('change',\n",
       "  '358_cause_recode.384',\n",
       "  ('Railway accidents (V05,V15,V80.6,V81.2-V81.9,V80.3-V80.5, V81.0-V81.1,V82.0-V82.1,V83-V86,V87.0-V87.8,V88.0-V88.8,V89.0, V89.2)',\n",
       "   'Railway accidents (V05,V15,V80.6,V81.2-V81.9)')),\n",
       " ('change',\n",
       "  '113_cause_recode.069',\n",
       "  ('Essential (primary) hypertension and hypertensive renal disease (I10,I12)',\n",
       "   'Essential (primary) hypertension and hypertensive renal disease (I10,I12,I15)')),\n",
       " ('change',\n",
       "  '113_cause_recode.076',\n",
       "  ('Influenza and pneumonia (J10-J18)', 'Influenza and pneumonia (J09-J18)')),\n",
       " ('change',\n",
       "  '113_cause_recode.077',\n",
       "  ('Influenza (J10-J11)', 'Influenza (J09-J11)')),\n",
       " ('change',\n",
       "  '113_cause_recode.079',\n",
       "  ('Other acute lower respiratory infections (J20-J22)',\n",
       "   'Other acute lower respiratory infections (J20-J22,U04)')),\n",
       " ('change',\n",
       "  '113_cause_recode.081',\n",
       "  ('Unspecified acute lower respiratory infection (J22)',\n",
       "   'Other and unspecified acute lower respiratory infection (J22,U04)')),\n",
       " ('change',\n",
       "  '130_infant_cause_recode.053',\n",
       "  ('Diseases of the respiratory system (J00-J98)',\n",
       "   'Diseases of the respiratory system (J00-J98,U04)')),\n",
       " ('change',\n",
       "  '130_infant_cause_recode.055',\n",
       "  ('Influenza and pneumonia (J10-J18)', 'Influenza and pneumonia (J09-J18)')),\n",
       " ('change',\n",
       "  '130_infant_cause_recode.056',\n",
       "  ('Influenza (J10-J11)', 'Influenza (J09-J11)')),\n",
       " ('change',\n",
       "  '130_infant_cause_recode.062',\n",
       "  ('Other and unspecified diseases of respiratory system (J22,J30-J39,J43-J44,J47-J68,J70-J98)',\n",
       "   'Other and unspecified diseases of respiratory system (J22,J30-J39,J43-J44,J47-J68,J70-J98,U04)')),\n",
       " ('change',\n",
       "  '130_infant_cause_recode.158',\n",
       "  ('Other external causes (Y10-Y36),',\n",
       "   'Other external causes (X60-X84,Y10-Y36)')),\n",
       " ('change',\n",
       "  '39_cause_recode.023',\n",
       "  ('Essential (primary) hypertension and hypertensive renal disease (I10,I12)',\n",
       "   'Essential (primary) hypertension and hypertensive renal disease (I10,I12,I15)')),\n",
       " ('change',\n",
       "  '39_cause_recode.027',\n",
       "  ('Influenza and pneumonia (J10-J18)', 'Influenza and pneumonia (J09-J18)')),\n",
       " ('change',\n",
       "  '39_cause_recode.037',\n",
       "  ('All other diseases (Residual) (A00-A09,A20-A49,A54-B19,B25-B99,D00-E07, E15-G25,G31-H93,I80-J06,J20-J39,J60-K22,K29-K66,K71-K72, K75-M99,N10-N15,N20-N23,N28-N98)',\n",
       "   'All other diseases (Residual) (A00-A09,A20-A49,A54-B19,B25-B99,D00-E07, E15-G25,G31-H93,I80-J06,J20-J39,J60-K22,K29-K66,K71-K72, K75-M99,N10-N15,N20-N23,N28-N98,U04)'))]"
      ]
     },
     "execution_count": 7,
     "metadata": {},
     "output_type": "execute_result"
    }
   ],
   "source": [
    "list(dictdiffer.diff(data_2009, data_2010))"
   ]
  },
  {
   "cell_type": "code",
   "execution_count": 8,
   "metadata": {},
   "outputs": [
    {
     "data": {
      "text/plain": [
       "[('add', 'current_data_year', [('2011', '2011')]),\n",
       " ('remove', 'current_data_year', [('2010', '2010')]),\n",
       " ('change',\n",
       "  '358_cause_recode.102',\n",
       "  ('Kaposi=s sarcoma (C46)', 'Kaposi’s sarcoma (C46)')),\n",
       " ('change',\n",
       "  '358_cause_recode.194',\n",
       "  ('All other diseases of nervous system (G10-G12,G23-G25,G31,G36-G37,G43-G44,G47-G72,G81-G98)',\n",
       "   'All other diseases of nervous system (G10-G14,G23-G25,G31,G36-G37,G43-G44,G47-G72,G81-G98)')),\n",
       " ('change',\n",
       "  '113_cause_recode.111',\n",
       "  ('All other diseases (Residual) (D65-E07,E15-E34,E65-F99,G04-G12,G23-G25,G31-H93, K00-K22,K29-K31,K50-K66,K71-K72,K75-K76,K83-M99, N13.0-N13.5,N13.7-N13.9, N14,N15.0,N15.8-N15.9,N20-N23,N28-N39,N41-N64,N80-N98)',\n",
       "   'All other diseases (Residual) (D65-E07,E15-E34,E65-F99,G04-G14,G23-G25,G31-H93, K00-K22,K29-K31,K50-K66,K71-K72,K75-K76,K83-M99, N13.0-N13.5,N13.7-N13.9, N14,N15.0,N15.8-N15.9,N20-N23,N28-N39,N41-N64,N80-N98)'))]"
      ]
     },
     "execution_count": 8,
     "metadata": {},
     "output_type": "execute_result"
    }
   ],
   "source": [
    "list(dictdiffer.diff(data_2010, data_2011))"
   ]
  },
  {
   "cell_type": "code",
   "execution_count": 9,
   "metadata": {},
   "outputs": [
    {
     "data": {
      "text/plain": [
       "[('add', 'current_data_year', [('2012', '2012')]),\n",
       " ('remove', 'current_data_year', [('2011', '2011')]),\n",
       " ('add', '', [('icd_code_10', {'Icd Code (10': nan})]),\n",
       " ('remove',\n",
       "  '',\n",
       "  [('icd_code_10th_revision', {'Icd Code (10Th Revision)': nan})])]"
      ]
     },
     "execution_count": 9,
     "metadata": {},
     "output_type": "execute_result"
    }
   ],
   "source": [
    "list(dictdiffer.diff(data_2011, data_2012))"
   ]
  },
  {
   "cell_type": "code",
   "execution_count": 10,
   "metadata": {},
   "outputs": [
    {
     "data": {
      "text/plain": [
       "[('add', 'current_data_year', [('2013', '2013')]),\n",
       " ('remove', 'current_data_year', [('2012', '2012')]),\n",
       " ('add', '', [('icd_code_10th_revision', {'Icd Code (10Th Revision)': nan})]),\n",
       " ('remove', '', [('icd_code_10', {'Icd Code (10': nan})])]"
      ]
     },
     "execution_count": 10,
     "metadata": {},
     "output_type": "execute_result"
    }
   ],
   "source": [
    "list(dictdiffer.diff(data_2012, data_2013))"
   ]
  },
  {
   "cell_type": "code",
   "execution_count": 11,
   "metadata": {},
   "outputs": [
    {
     "data": {
      "text/plain": [
       "[('add', 'current_data_year', [('2014', '2014')]),\n",
       " ('remove', 'current_data_year', [('2013', '2013')]),\n",
       " ('change',\n",
       "  '358_cause_recode.156',\n",
       "  ('IV.  Endocrine, nutritional and metabolic diseases (E00-E88)',\n",
       "   'IV. Endocrine, nutritional and metabolic diseases (E00-E88)')),\n",
       " ('change',\n",
       "  '358_cause_recode.185',\n",
       "  ('VI.  Diseases of the nervous system (G00-G98)',\n",
       "   'VI. Diseases of the nervous system (G00-G98)')),\n",
       " ('change',\n",
       "  '358_cause_recode.195',\n",
       "  ('VII.  Diseases of the eye and adnexa (H00-H57)',\n",
       "   'VII. Diseases of the eye and adnexa (H00-H57)')),\n",
       " ('change',\n",
       "  '358_cause_recode.196',\n",
       "  ('VIII.  Diseases of the ear and mastoid process (H60-H93)',\n",
       "   'VIII. Diseases of the ear and mastoid process (H60-H93)')),\n",
       " ('change',\n",
       "  '358_cause_recode.197',\n",
       "  ('IX.  Diseases of the circulatory system (I00-I99)',\n",
       "   'IX. Diseases of the circulatory system (I00-I99)')),\n",
       " ('change',\n",
       "  '358_cause_recode.279',\n",
       "  ('XI.Diseases of the digestive system (K00-K92)',\n",
       "   'XI. Diseases of the digestive system (K00-K92)')),\n",
       " ('change',\n",
       "  '358_cause_recode.307',\n",
       "  ('XII.Diseases of the skin and subcutaneous tissue (L00-L98)',\n",
       "   'XII. Diseases of the skin and subcutaneous tissue (L00-L98)')),\n",
       " ('change',\n",
       "  '358_cause_recode.310',\n",
       "  ('XIII.  Diseases of the musculoskeletal system and connective tissue (M00-M99)',\n",
       "   'XIII. Diseases of the musculoskeletal system and connective tissue (M00-M99)')),\n",
       " ('change',\n",
       "  '358_cause_recode.319',\n",
       "  ('XIV.Diseases of the genitourinary system (N00-N98)',\n",
       "   'XIV. Diseases of the genitourinary system (N00-N98)')),\n",
       " ('change',\n",
       "  '358_cause_recode.339',\n",
       "  ('XV.Pregnancy, childbirth and the puerperium (O00-O99)',\n",
       "   'XV. Pregnancy, childbirth and the puerperium (O00-O99)')),\n",
       " ('change',\n",
       "  '358_cause_recode.356',\n",
       "  ('XVI.Certain conditions originating in the perinatal period (P00-P96)',\n",
       "   'XVI. Certain conditions originating in the perinatal period (P00-P96)')),\n",
       " ('change',\n",
       "  '358_cause_recode.365',\n",
       "  ('XVII.  Congenital malformations, deformations and chromosomal abnormalities (Q00-Q99)',\n",
       "   'XVII. Congenital malformations, deformations and chromosomal abnormalities (Q00-Q99)')),\n",
       " ('change',\n",
       "  '358_cause_recode.375',\n",
       "  ('XVIII.Symptoms, signs and abnormal clinical and laboratory findings, not elsewhere classified (R00-R99)',\n",
       "   'XVIII. Symptoms, signs and abnormal clinical and laboratory findings, not elsewhere classified (R00-R99)'))]"
      ]
     },
     "execution_count": 11,
     "metadata": {},
     "output_type": "execute_result"
    }
   ],
   "source": [
    "list(dictdiffer.diff(data_2013, data_2014))"
   ]
  },
  {
   "cell_type": "code",
   "execution_count": 12,
   "metadata": {},
   "outputs": [
    {
     "data": {
      "text/plain": [
       "[('add', 'current_data_year', [('2015', '2015')]),\n",
       " ('remove', 'current_data_year', [('2014', '2014')])]"
      ]
     },
     "execution_count": 12,
     "metadata": {},
     "output_type": "execute_result"
    }
   ],
   "source": [
    "list(dictdiffer.diff(data_2014, data_2015))"
   ]
  },
  {
   "cell_type": "code",
   "execution_count": null,
   "metadata": {},
   "outputs": [],
   "source": []
  }
 ],
 "metadata": {
  "kernelspec": {
   "display_name": "Python 3",
   "language": "python",
   "name": "python3"
  },
  "language_info": {
   "codemirror_mode": {
    "name": "ipython",
    "version": 3
   },
   "file_extension": ".py",
   "mimetype": "text/x-python",
   "name": "python",
   "nbconvert_exporter": "python",
   "pygments_lexer": "ipython3",
   "version": "3.7.3"
  }
 },
 "nbformat": 4,
 "nbformat_minor": 2
}
