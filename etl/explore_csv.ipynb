{
 "cells": [
  {
   "cell_type": "code",
   "execution_count": 1,
   "metadata": {},
   "outputs": [],
   "source": [
    "import pandas as pd\n",
    "import numpy as np"
   ]
  },
  {
   "cell_type": "code",
   "execution_count": 2,
   "metadata": {},
   "outputs": [
    {
     "name": "stderr",
     "output_type": "stream",
     "text": [
      "/home/sean/Code/incoming/anaconda3/lib/python3.7/site-packages/IPython/core/interactiveshell.py:3049: DtypeWarning: Columns (39,40,41,42,43,44,45,46,47,59,60,61,62,63,64,65,66,67) have mixed types. Specify dtype option on import or set low_memory=False.\n",
      "  interactivity=interactivity, compiler=compiler, result=result)\n"
     ]
    }
   ],
   "source": [
    "df6 = pd.read_csv(\"../data/2006_data.csv\")"
   ]
  },
  {
   "cell_type": "code",
   "execution_count": 3,
   "metadata": {},
   "outputs": [
    {
     "data": {
      "text/plain": [
       "Index(['resident_status', 'education_1989_revision', 'education_2003_revision',\n",
       "       'education_reporting_flag', 'month_of_death', 'sex', 'detail_age_type',\n",
       "       'detail_age', 'age_substitution_flag', 'age_recode_52', 'age_recode_27',\n",
       "       'age_recode_12', 'infant_age_recode_22',\n",
       "       'place_of_death_and_decedents_status', 'marital_status',\n",
       "       'day_of_week_of_death', 'current_data_year', 'injury_at_work',\n",
       "       'manner_of_death', 'method_of_disposition', 'autopsy', 'activity_code',\n",
       "       'place_of_injury_for_causes_w00_y34_except_y06_and_y07_',\n",
       "       'icd_code_10th_revision', '358_cause_recode', '113_cause_recode',\n",
       "       '130_infant_cause_recode', '39_cause_recode',\n",
       "       'number_of_entity_axis_conditions', 'entity_condition_1',\n",
       "       'entity_condition_2', 'entity_condition_3', 'entity_condition_4',\n",
       "       'entity_condition_5', 'entity_condition_6', 'entity_condition_7',\n",
       "       'entity_condition_8', 'entity_condition_9', 'entity_condition_10',\n",
       "       'entity_condition_11', 'entity_condition_12', 'entity_condition_13',\n",
       "       'entity_condition_14', 'entity_condition_15', 'entity_condition_16',\n",
       "       'entity_condition_17', 'entity_condition_18', 'entity_condition_19',\n",
       "       'entity_condition_20', 'number_of_record_axis_conditions',\n",
       "       'record_condition_1', 'record_condition_2', 'record_condition_3',\n",
       "       'record_condition_4', 'record_condition_5', 'record_condition_6',\n",
       "       'record_condition_7', 'record_condition_8', 'record_condition_9',\n",
       "       'record_condition_10', 'record_condition_11', 'record_condition_12',\n",
       "       'record_condition_13', 'record_condition_14', 'record_condition_15',\n",
       "       'record_condition_16', 'record_condition_17', 'record_condition_18',\n",
       "       'record_condition_19', 'record_condition_20', 'race',\n",
       "       'bridged_race_flag', 'race_imputation_flag', 'race_recode_3',\n",
       "       'race_recode_5', 'hispanic_origin', 'hispanic_originrace_recode'],\n",
       "      dtype='object')"
      ]
     },
     "execution_count": 3,
     "metadata": {},
     "output_type": "execute_result"
    }
   ],
   "source": [
    "df6.columns"
   ]
  },
  {
   "cell_type": "code",
   "execution_count": 4,
   "metadata": {},
   "outputs": [
    {
     "data": {
      "text/plain": [
       "3"
      ]
     },
     "execution_count": 4,
     "metadata": {},
     "output_type": "execute_result"
    }
   ],
   "source": [
    "df6.number_of_entity_axis_conditions[1]"
   ]
  },
  {
   "cell_type": "code",
   "execution_count": 5,
   "metadata": {},
   "outputs": [
    {
     "data": {
      "text/plain": [
       "'11I500'"
      ]
     },
     "execution_count": 5,
     "metadata": {},
     "output_type": "execute_result"
    }
   ],
   "source": [
    "df6.entity_condition_1[1]"
   ]
  },
  {
   "cell_type": "code",
   "execution_count": 6,
   "metadata": {},
   "outputs": [
    {
     "data": {
      "text/plain": [
       "'12J81'"
      ]
     },
     "execution_count": 6,
     "metadata": {},
     "output_type": "execute_result"
    }
   ],
   "source": [
    "df6.entity_condition_2[1]"
   ]
  },
  {
   "cell_type": "code",
   "execution_count": 7,
   "metadata": {},
   "outputs": [
    {
     "data": {
      "text/plain": [
       "'21I251'"
      ]
     },
     "execution_count": 7,
     "metadata": {},
     "output_type": "execute_result"
    }
   ],
   "source": [
    "df6.entity_condition_3[1]"
   ]
  },
  {
   "cell_type": "code",
   "execution_count": 8,
   "metadata": {},
   "outputs": [
    {
     "data": {
      "text/plain": [
       "3"
      ]
     },
     "execution_count": 8,
     "metadata": {},
     "output_type": "execute_result"
    }
   ],
   "source": [
    "df6.number_of_record_axis_conditions[1]"
   ]
  },
  {
   "cell_type": "code",
   "execution_count": 9,
   "metadata": {},
   "outputs": [
    {
     "data": {
      "text/plain": [
       "'I251'"
      ]
     },
     "execution_count": 9,
     "metadata": {},
     "output_type": "execute_result"
    }
   ],
   "source": [
    "df6.record_condition_1[1]"
   ]
  },
  {
   "cell_type": "code",
   "execution_count": 10,
   "metadata": {},
   "outputs": [
    {
     "data": {
      "text/plain": [
       "'I500'"
      ]
     },
     "execution_count": 10,
     "metadata": {},
     "output_type": "execute_result"
    }
   ],
   "source": [
    "df6.record_condition_2[1]"
   ]
  },
  {
   "cell_type": "code",
   "execution_count": 11,
   "metadata": {},
   "outputs": [
    {
     "data": {
      "text/plain": [
       "'J81'"
      ]
     },
     "execution_count": 11,
     "metadata": {},
     "output_type": "execute_result"
    }
   ],
   "source": [
    "df6.record_condition_3[1]"
   ]
  },
  {
   "cell_type": "code",
   "execution_count": 12,
   "metadata": {},
   "outputs": [],
   "source": [
    "cause1 = \"|J32|H21|R4|\""
   ]
  },
  {
   "cell_type": "code",
   "execution_count": 13,
   "metadata": {},
   "outputs": [],
   "source": [
    "cause2 = \"|H21|K12|\""
   ]
  },
  {
   "cell_type": "code",
   "execution_count": 14,
   "metadata": {},
   "outputs": [],
   "source": [
    "cause3 = \"|R12|L2|\""
   ]
  },
  {
   "cell_type": "code",
   "execution_count": 15,
   "metadata": {},
   "outputs": [],
   "source": [
    "cause4 = \"|L9|L2|H21|\""
   ]
  },
  {
   "cell_type": "markdown",
   "metadata": {},
   "source": [
    "4 patients with 3 having :H21:"
   ]
  },
  {
   "cell_type": "code",
   "execution_count": 16,
   "metadata": {},
   "outputs": [],
   "source": [
    "df = pd.DataFrame({'causes':[cause1, cause2, cause3, cause4]})"
   ]
  },
  {
   "cell_type": "code",
   "execution_count": 17,
   "metadata": {},
   "outputs": [
    {
     "data": {
      "text/html": [
       "<div>\n",
       "<style scoped>\n",
       "    .dataframe tbody tr th:only-of-type {\n",
       "        vertical-align: middle;\n",
       "    }\n",
       "\n",
       "    .dataframe tbody tr th {\n",
       "        vertical-align: top;\n",
       "    }\n",
       "\n",
       "    .dataframe thead th {\n",
       "        text-align: right;\n",
       "    }\n",
       "</style>\n",
       "<table border=\"1\" class=\"dataframe\">\n",
       "  <thead>\n",
       "    <tr style=\"text-align: right;\">\n",
       "      <th></th>\n",
       "      <th>causes</th>\n",
       "    </tr>\n",
       "  </thead>\n",
       "  <tbody>\n",
       "    <tr>\n",
       "      <th>0</th>\n",
       "      <td>|J32|H21|R4|</td>\n",
       "    </tr>\n",
       "    <tr>\n",
       "      <th>1</th>\n",
       "      <td>|H21|K12|</td>\n",
       "    </tr>\n",
       "    <tr>\n",
       "      <th>2</th>\n",
       "      <td>|R12|L2|</td>\n",
       "    </tr>\n",
       "    <tr>\n",
       "      <th>3</th>\n",
       "      <td>|L9|L2|H21|</td>\n",
       "    </tr>\n",
       "  </tbody>\n",
       "</table>\n",
       "</div>"
      ],
      "text/plain": [
       "         causes\n",
       "0  |J32|H21|R4|\n",
       "1     |H21|K12|\n",
       "2      |R12|L2|\n",
       "3   |L9|L2|H21|"
      ]
     },
     "execution_count": 17,
     "metadata": {},
     "output_type": "execute_result"
    }
   ],
   "source": [
    "df"
   ]
  },
  {
   "cell_type": "code",
   "execution_count": 18,
   "metadata": {},
   "outputs": [
    {
     "data": {
      "text/plain": [
       "3"
      ]
     },
     "execution_count": 18,
     "metadata": {},
     "output_type": "execute_result"
    }
   ],
   "source": [
    "sum(df.causes.str.contains('|H21|', regex=False))"
   ]
  },
  {
   "cell_type": "code",
   "execution_count": 37,
   "metadata": {},
   "outputs": [],
   "source": [
    "df6['causes'] = '|'    "
   ]
  },
  {
   "cell_type": "code",
   "execution_count": 38,
   "metadata": {
    "scrolled": false
   },
   "outputs": [
    {
     "data": {
      "text/plain": [
       "Index(['resident_status', 'education_1989_revision', 'education_2003_revision',\n",
       "       'education_reporting_flag', 'month_of_death', 'sex', 'detail_age_type',\n",
       "       'detail_age', 'age_substitution_flag', 'age_recode_52', 'age_recode_27',\n",
       "       'age_recode_12', 'infant_age_recode_22',\n",
       "       'place_of_death_and_decedents_status', 'marital_status',\n",
       "       'day_of_week_of_death', 'current_data_year', 'injury_at_work',\n",
       "       'manner_of_death', 'method_of_disposition', 'autopsy', 'activity_code',\n",
       "       'place_of_injury_for_causes_w00_y34_except_y06_and_y07_',\n",
       "       'icd_code_10th_revision', '358_cause_recode', '113_cause_recode',\n",
       "       '130_infant_cause_recode', '39_cause_recode',\n",
       "       'number_of_entity_axis_conditions', 'entity_condition_1',\n",
       "       'entity_condition_2', 'entity_condition_3', 'entity_condition_4',\n",
       "       'entity_condition_5', 'entity_condition_6', 'entity_condition_7',\n",
       "       'entity_condition_8', 'entity_condition_9', 'entity_condition_10',\n",
       "       'entity_condition_11', 'entity_condition_12', 'entity_condition_13',\n",
       "       'entity_condition_14', 'entity_condition_15', 'entity_condition_16',\n",
       "       'entity_condition_17', 'entity_condition_18', 'entity_condition_19',\n",
       "       'entity_condition_20', 'number_of_record_axis_conditions',\n",
       "       'record_condition_1', 'record_condition_2', 'record_condition_3',\n",
       "       'record_condition_4', 'record_condition_5', 'record_condition_6',\n",
       "       'record_condition_7', 'record_condition_8', 'record_condition_9',\n",
       "       'record_condition_10', 'record_condition_11', 'record_condition_12',\n",
       "       'record_condition_13', 'record_condition_14', 'record_condition_15',\n",
       "       'record_condition_16', 'record_condition_17', 'record_condition_18',\n",
       "       'record_condition_19', 'record_condition_20', 'race',\n",
       "       'bridged_race_flag', 'race_imputation_flag', 'race_recode_3',\n",
       "       'race_recode_5', 'hispanic_origin', 'hispanic_originrace_recode',\n",
       "       'causes'],\n",
       "      dtype='object')"
      ]
     },
     "execution_count": 38,
     "metadata": {},
     "output_type": "execute_result"
    }
   ],
   "source": [
    "df6.columns"
   ]
  },
  {
   "cell_type": "code",
   "execution_count": 43,
   "metadata": {},
   "outputs": [],
   "source": [
    "df6['causes'] = df6['causes'] + df6['record_condition_3'] + '|'"
   ]
  },
  {
   "cell_type": "code",
   "execution_count": 44,
   "metadata": {},
   "outputs": [
    {
     "data": {
      "text/plain": [
       "0                NaN\n",
       "1    |I251|I500|J81|\n",
       "2                NaN\n",
       "3    |J449|C80|I251|\n",
       "4                NaN\n",
       "Name: causes, dtype: object"
      ]
     },
     "execution_count": 44,
     "metadata": {},
     "output_type": "execute_result"
    }
   ],
   "source": [
    "df6['causes'].head()"
   ]
  },
  {
   "cell_type": "code",
   "execution_count": null,
   "metadata": {},
   "outputs": [],
   "source": []
  }
 ],
 "metadata": {
  "kernelspec": {
   "display_name": "Python 3",
   "language": "python",
   "name": "python3"
  },
  "language_info": {
   "codemirror_mode": {
    "name": "ipython",
    "version": 3
   },
   "file_extension": ".py",
   "mimetype": "text/x-python",
   "name": "python",
   "nbconvert_exporter": "python",
   "pygments_lexer": "ipython3",
   "version": "3.7.3"
  }
 },
 "nbformat": 4,
 "nbformat_minor": 2
}
